{
 "cells": [
  {
   "cell_type": "markdown",
   "id": "ffa333ff",
   "metadata": {},
   "source": [
    "## cumcount teset"
   ]
  },
  {
   "cell_type": "code",
   "execution_count": 3,
   "id": "28cf9f0b",
   "metadata": {},
   "outputs": [
    {
     "data": {
      "text/html": [
       "<div>\n",
       "<style scoped>\n",
       "    .dataframe tbody tr th:only-of-type {\n",
       "        vertical-align: middle;\n",
       "    }\n",
       "\n",
       "    .dataframe tbody tr th {\n",
       "        vertical-align: top;\n",
       "    }\n",
       "\n",
       "    .dataframe thead th {\n",
       "        text-align: right;\n",
       "    }\n",
       "</style>\n",
       "<table border=\"1\" class=\"dataframe\">\n",
       "  <thead>\n",
       "    <tr style=\"text-align: right;\">\n",
       "      <th></th>\n",
       "      <th>A</th>\n",
       "    </tr>\n",
       "  </thead>\n",
       "  <tbody>\n",
       "    <tr>\n",
       "      <th>0</th>\n",
       "      <td>a</td>\n",
       "    </tr>\n",
       "    <tr>\n",
       "      <th>1</th>\n",
       "      <td>a</td>\n",
       "    </tr>\n",
       "    <tr>\n",
       "      <th>2</th>\n",
       "      <td>a</td>\n",
       "    </tr>\n",
       "    <tr>\n",
       "      <th>3</th>\n",
       "      <td>b</td>\n",
       "    </tr>\n",
       "    <tr>\n",
       "      <th>4</th>\n",
       "      <td>b</td>\n",
       "    </tr>\n",
       "    <tr>\n",
       "      <th>5</th>\n",
       "      <td>a</td>\n",
       "    </tr>\n",
       "  </tbody>\n",
       "</table>\n",
       "</div>"
      ],
      "text/plain": [
       "   A\n",
       "0  a\n",
       "1  a\n",
       "2  a\n",
       "3  b\n",
       "4  b\n",
       "5  a"
      ]
     },
     "execution_count": 3,
     "metadata": {},
     "output_type": "execute_result"
    }
   ],
   "source": [
    "import pandas as pd\n",
    "\n",
    "df = pd.DataFrame([['a'], ['a'], ['a'], ['b'], ['b'], ['a']],\n",
    "                 columns=['A'])\n",
    "df"
   ]
  },
  {
   "cell_type": "code",
   "execution_count": 4,
   "id": "5705615b",
   "metadata": {},
   "outputs": [
    {
     "data": {
      "text/plain": [
       "0    0\n",
       "1    1\n",
       "2    2\n",
       "3    0\n",
       "4    1\n",
       "5    3\n",
       "dtype: int64"
      ]
     },
     "execution_count": 4,
     "metadata": {},
     "output_type": "execute_result"
    }
   ],
   "source": [
    "df.groupby('A').cumcount()"
   ]
  },
  {
   "cell_type": "markdown",
   "id": "afd074a8",
   "metadata": {},
   "source": [
    "## join test"
   ]
  },
  {
   "cell_type": "code",
   "execution_count": 5,
   "id": "81d29362",
   "metadata": {},
   "outputs": [
    {
     "name": "stdout",
     "output_type": "stream",
     "text": [
      "   key   name\n",
      "0    1   Jane\n",
      "1    2   John\n",
      "2    3  Peter\n",
      "   key  age\n",
      "0    2   18\n",
      "1    3   15\n",
      "2    4   20\n"
     ]
    }
   ],
   "source": [
    "import pandas as pd\n",
    "\n",
    "data_A = {'key': [1,2,3], 'name': ['Jane', 'John', 'Peter']}\n",
    "dataframe_A = pd.DataFrame(data_A, columns = ['key', 'name'])\n",
    "\n",
    "data_B = {'key': [2,3,4], 'age': [18, 15, 20]}\n",
    "dataframe_B = pd.DataFrame(data_B, columns = ['key', 'age'])\n",
    "\n",
    "print(dataframe_A)\n",
    "print(dataframe_B)"
   ]
  },
  {
   "cell_type": "code",
   "execution_count": 6,
   "id": "a9b86faf",
   "metadata": {},
   "outputs": [
    {
     "name": "stdout",
     "output_type": "stream",
     "text": [
      "   key   name  age\n",
      "0    2   John   18\n",
      "1    3  Peter   15\n"
     ]
    }
   ],
   "source": [
    "df_INNER_JOIN = pd.merge(dataframe_A, dataframe_B, left_on='key', right_on='key', how='inner')\n",
    "print(df_INNER_JOIN)"
   ]
  },
  {
   "cell_type": "code",
   "execution_count": 7,
   "id": "973c49cf",
   "metadata": {},
   "outputs": [
    {
     "name": "stdout",
     "output_type": "stream",
     "text": [
      "   key   name   age\n",
      "0    1   Jane   NaN\n",
      "1    2   John  18.0\n",
      "2    3  Peter  15.0\n",
      "3    4    NaN  20.0\n"
     ]
    }
   ],
   "source": [
    "df_OUTER_JOIN = pd.merge(dataframe_A, dataframe_B, left_on='key', right_on='key', how='outer')\n",
    "print(df_OUTER_JOIN)"
   ]
  },
  {
   "cell_type": "code",
   "execution_count": 8,
   "id": "1f03be48",
   "metadata": {},
   "outputs": [
    {
     "name": "stdout",
     "output_type": "stream",
     "text": [
      "   key   name   age\n",
      "0    1   Jane   NaN\n",
      "1    2   John  18.0\n",
      "2    3  Peter  15.0\n"
     ]
    }
   ],
   "source": [
    "df_LEFT_JOIN = pd.merge(dataframe_A, dataframe_B, left_on='key', right_on='key', how='left')\n",
    "print(df_LEFT_JOIN)"
   ]
  },
  {
   "cell_type": "code",
   "execution_count": 9,
   "id": "15103d2c",
   "metadata": {},
   "outputs": [
    {
     "name": "stdout",
     "output_type": "stream",
     "text": [
      "   key   name  age\n",
      "0    2   John   18\n",
      "1    3  Peter   15\n",
      "2    4    NaN   20\n"
     ]
    }
   ],
   "source": [
    "df_RIGHT_JOIN = pd.merge(dataframe_A, dataframe_B, left_on='key', right_on='key', how='right')\n",
    "print(df_RIGHT_JOIN)"
   ]
  },
  {
   "cell_type": "code",
   "execution_count": null,
   "id": "655b0ab1",
   "metadata": {},
   "outputs": [],
   "source": []
  }
 ],
 "metadata": {
  "kernelspec": {
   "display_name": "Python 3 (ipykernel)",
   "language": "python",
   "name": "python3"
  },
  "language_info": {
   "codemirror_mode": {
    "name": "ipython",
    "version": 3
   },
   "file_extension": ".py",
   "mimetype": "text/x-python",
   "name": "python",
   "nbconvert_exporter": "python",
   "pygments_lexer": "ipython3",
   "version": "3.9.7"
  }
 },
 "nbformat": 4,
 "nbformat_minor": 5
}
