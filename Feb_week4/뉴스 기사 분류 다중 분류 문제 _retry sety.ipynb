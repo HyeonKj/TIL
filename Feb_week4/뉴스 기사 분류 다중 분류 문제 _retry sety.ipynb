{
 "cells": [
  {
   "cell_type": "code",
   "execution_count": 1,
   "id": "e1c4567d",
   "metadata": {},
   "outputs": [],
   "source": [
    "# 로이터 데이터셋 로드하기\n",
    "from keras.datasets import reuters\n",
    "\n",
    "(train_data, train_labels), (test_data, test_labels) = reuters.load_data(num_words=10000)"
   ]
  },
  {
   "cell_type": "code",
   "execution_count": 2,
   "id": "717a1b0e",
   "metadata": {},
   "outputs": [],
   "source": [
    "# 코드 3-14 데이터 인코딩하기\n",
    "import numpy as np\n",
    "\n",
    "def vectorize_sequences(sequences, dimension=10000):\n",
    "  results = np.zeros((len(sequences), dimension))\n",
    "  for i, sequence in enumerate(sequences):\n",
    "    results[i, sequence] = 1.\n",
    "  return results\n",
    "\n",
    "x_train = vectorize_sequences(train_data)\n",
    "x_test = vectorize_sequences(test_data)\n",
    "\n",
    "# 레이블 벡터 변환\n",
    "def to_one_hot(labels, dimension=46):\n",
    "  results = np.zeros((len(labels), dimension))\n",
    "  for i, label in enumerate(labels):\n",
    "    results[i, label] = 1.\n",
    "  return results\n",
    "\n",
    "one_hot_train_labels = to_one_hot(train_labels)\n",
    "one_hot_test_labels = to_one_hot(test_labels)"
   ]
  },
  {
   "cell_type": "code",
   "execution_count": 3,
   "id": "0f14480c",
   "metadata": {},
   "outputs": [],
   "source": [
    "# keras 내장 함수\n",
    "from keras.utils.np_utils  import to_categorical\n",
    "\n",
    "one_hot_train_labels = to_categorical(train_labels)\n",
    "one_hot_test_labels = to_categorical(test_labels)"
   ]
  },
  {
   "cell_type": "code",
   "execution_count": 4,
   "id": "f9a625e5",
   "metadata": {},
   "outputs": [],
   "source": [
    "# 코드 3-15 모델 정의하기\n",
    "from keras import models\n",
    "from keras import layers\n",
    "\n",
    "model = models.Sequential()\n",
    "model.add(layers.Dense(64, activation='relu', input_shape=(10000,)))\n",
    "model.add(layers.Dense(64, activation='relu'))\n",
    "model.add(layers.Dense(46, activation='softmax'))"
   ]
  },
  {
   "cell_type": "code",
   "execution_count": 5,
   "id": "9bb93546",
   "metadata": {},
   "outputs": [],
   "source": [
    "# 코드 3-16 모델 컴파일하기\n",
    "model.compile(optimizer='rmsprop', loss='categorical_crossentropy', metrics='accuracy')"
   ]
  },
  {
   "cell_type": "code",
   "execution_count": 6,
   "id": "4a491071",
   "metadata": {},
   "outputs": [],
   "source": [
    "# 코드 3-17 검증 세트 준비하기\n",
    "x_val = x_train[:1000]\n",
    "partial_x_train = x_train[1000:]\n",
    "\n",
    "y_val = one_hot_train_labels[:1000]\n",
    "partial_y_train = one_hot_train_labels[1000:]"
   ]
  },
  {
   "cell_type": "code",
   "execution_count": 7,
   "id": "7cd20a40",
   "metadata": {},
   "outputs": [
    {
     "name": "stdout",
     "output_type": "stream",
     "text": [
      "Epoch 1/20\n",
      "16/16 [==============================] - 2s 69ms/step - loss: 2.6372 - accuracy: 0.5172 - val_loss: 1.6922 - val_accuracy: 0.6490\n",
      "Epoch 2/20\n",
      "16/16 [==============================] - 1s 50ms/step - loss: 1.3861 - accuracy: 0.7100 - val_loss: 1.2880 - val_accuracy: 0.7040\n",
      "Epoch 3/20\n",
      "16/16 [==============================] - 1s 45ms/step - loss: 1.0379 - accuracy: 0.7776 - val_loss: 1.1121 - val_accuracy: 0.7540\n",
      "Epoch 4/20\n",
      "16/16 [==============================] - 1s 44ms/step - loss: 0.8192 - accuracy: 0.8244 - val_loss: 1.0363 - val_accuracy: 0.7640\n",
      "Epoch 5/20\n",
      "16/16 [==============================] - 1s 45ms/step - loss: 0.6573 - accuracy: 0.8627 - val_loss: 0.9780 - val_accuracy: 0.7950\n",
      "Epoch 6/20\n",
      "16/16 [==============================] - 1s 46ms/step - loss: 0.5289 - accuracy: 0.8882 - val_loss: 0.9187 - val_accuracy: 0.8110\n",
      "Epoch 7/20\n",
      "16/16 [==============================] - 1s 49ms/step - loss: 0.4279 - accuracy: 0.9103 - val_loss: 0.9111 - val_accuracy: 0.8120\n",
      "Epoch 8/20\n",
      "16/16 [==============================] - 1s 45ms/step - loss: 0.3513 - accuracy: 0.9248 - val_loss: 0.9374 - val_accuracy: 0.8100\n",
      "Epoch 9/20\n",
      "16/16 [==============================] - 1s 44ms/step - loss: 0.2905 - accuracy: 0.9375 - val_loss: 0.9161 - val_accuracy: 0.8160\n",
      "Epoch 10/20\n",
      "16/16 [==============================] - 1s 47ms/step - loss: 0.2487 - accuracy: 0.9445 - val_loss: 0.9212 - val_accuracy: 0.8230\n",
      "Epoch 11/20\n",
      "16/16 [==============================] - 1s 50ms/step - loss: 0.2094 - accuracy: 0.9490 - val_loss: 0.9545 - val_accuracy: 0.8100\n",
      "Epoch 12/20\n",
      "16/16 [==============================] - 1s 54ms/step - loss: 0.1869 - accuracy: 0.9513 - val_loss: 0.9402 - val_accuracy: 0.8210\n",
      "Epoch 13/20\n",
      "16/16 [==============================] - 1s 50ms/step - loss: 0.1683 - accuracy: 0.9524 - val_loss: 0.9461 - val_accuracy: 0.8240\n",
      "Epoch 14/20\n",
      "16/16 [==============================] - 1s 47ms/step - loss: 0.1540 - accuracy: 0.9559 - val_loss: 1.0035 - val_accuracy: 0.8070\n",
      "Epoch 15/20\n",
      "16/16 [==============================] - 1s 49ms/step - loss: 0.1431 - accuracy: 0.9540 - val_loss: 0.9815 - val_accuracy: 0.8220\n",
      "Epoch 16/20\n",
      "16/16 [==============================] - 1s 46ms/step - loss: 0.1337 - accuracy: 0.9546 - val_loss: 1.0629 - val_accuracy: 0.8000\n",
      "Epoch 17/20\n",
      "16/16 [==============================] - 1s 45ms/step - loss: 0.1233 - accuracy: 0.9577 - val_loss: 1.0410 - val_accuracy: 0.8090\n",
      "Epoch 18/20\n",
      "16/16 [==============================] - 1s 45ms/step - loss: 0.1235 - accuracy: 0.9582 - val_loss: 1.0285 - val_accuracy: 0.8130\n",
      "Epoch 19/20\n",
      "16/16 [==============================] - 1s 51ms/step - loss: 0.1138 - accuracy: 0.9574 - val_loss: 1.1240 - val_accuracy: 0.7920\n",
      "Epoch 20/20\n",
      "16/16 [==============================] - 1s 42ms/step - loss: 0.1151 - accuracy: 0.9558 - val_loss: 1.1234 - val_accuracy: 0.8030\n"
     ]
    }
   ],
   "source": [
    "# 모델 훈련하기\n",
    "history = model.fit(partial_x_train,\n",
    "                    partial_y_train,\n",
    "                    epochs=20,\n",
    "                    batch_size=512,\n",
    "                    validation_data=(x_val, y_val))"
   ]
  },
  {
   "cell_type": "code",
   "execution_count": 14,
   "id": "a493bfbb",
   "metadata": {},
   "outputs": [
    {
     "ename": "KeyError",
     "evalue": "'acc'",
     "output_type": "error",
     "traceback": [
      "\u001b[1;31m---------------------------------------------------------------------------\u001b[0m",
      "\u001b[1;31mKeyError\u001b[0m                                  Traceback (most recent call last)",
      "\u001b[1;32m~\\AppData\\Local\\Temp/ipykernel_7872/2637076569.py\u001b[0m in \u001b[0;36m<module>\u001b[1;34m\u001b[0m\n\u001b[0;32m      2\u001b[0m \u001b[1;32mimport\u001b[0m \u001b[0mmatplotlib\u001b[0m\u001b[1;33m.\u001b[0m\u001b[0mpyplot\u001b[0m \u001b[1;32mas\u001b[0m \u001b[0mplt\u001b[0m\u001b[1;33m\u001b[0m\u001b[1;33m\u001b[0m\u001b[0m\n\u001b[0;32m      3\u001b[0m \u001b[1;33m\u001b[0m\u001b[0m\n\u001b[1;32m----> 4\u001b[1;33m \u001b[0macc\u001b[0m \u001b[1;33m=\u001b[0m \u001b[0mhistory\u001b[0m\u001b[1;33m.\u001b[0m\u001b[0mhistory\u001b[0m\u001b[1;33m[\u001b[0m\u001b[1;34m'acc'\u001b[0m\u001b[1;33m]\u001b[0m\u001b[1;33m\u001b[0m\u001b[1;33m\u001b[0m\u001b[0m\n\u001b[0m\u001b[0;32m      5\u001b[0m \u001b[0mval_acc\u001b[0m \u001b[1;33m=\u001b[0m \u001b[0mhistory\u001b[0m\u001b[1;33m.\u001b[0m\u001b[0mhistory\u001b[0m\u001b[1;33m[\u001b[0m\u001b[1;34m'val_acc'\u001b[0m\u001b[1;33m]\u001b[0m\u001b[1;33m\u001b[0m\u001b[1;33m\u001b[0m\u001b[0m\n\u001b[0;32m      6\u001b[0m \u001b[0mloss\u001b[0m \u001b[1;33m=\u001b[0m \u001b[0mhistory\u001b[0m\u001b[1;33m.\u001b[0m\u001b[0mhistory\u001b[0m\u001b[1;33m[\u001b[0m\u001b[1;34m'loss'\u001b[0m\u001b[1;33m]\u001b[0m\u001b[1;33m\u001b[0m\u001b[1;33m\u001b[0m\u001b[0m\n",
      "\u001b[1;31mKeyError\u001b[0m: 'acc'"
     ]
    }
   ],
   "source": [
    "# \\훈련과 검증 손실 그리기\n",
    "import matplotlib.pyplot as plt\n",
    "\n",
    "acc = history.history['acc']\n",
    "val_acc = history.history['val_acc']\n",
    "loss = history.history['loss']\n",
    "val_loss = history.history['val_loss']\n",
    "\n",
    "epochs = range(1, len(acc) + 1)\n",
    "\n",
    "plt.plot(epochs, loss, 'bo', label='Training loss')\n",
    "\n",
    "plt.plot(epochs, val_loss, 'b', label='Validation loss')\n",
    "plt.title('Training and validation loss')\n",
    "plt.xlabel('Epochs')\n",
    "plt.ylabel('Loss')\n",
    "plt.legend()\n",
    "\n",
    "plt.show()"
   ]
  },
  {
   "cell_type": "code",
   "execution_count": 15,
   "id": "4e2b0bf4",
   "metadata": {},
   "outputs": [
    {
     "data": {
      "text/plain": [
       "<Figure size 432x288 with 0 Axes>"
      ]
     },
     "metadata": {},
     "output_type": "display_data"
    },
    {
     "data": {
      "text/plain": [
       "<Figure size 432x288 with 0 Axes>"
      ]
     },
     "metadata": {},
     "output_type": "display_data"
    }
   ],
   "source": [
    "# 변경파트\n",
    "fig1 = plt.gcf()\n",
    "plt.show()\n",
    "plt.draw()\n",
    "fig1.savefig('fig1.png', dpi=100)"
   ]
  },
  {
   "cell_type": "code",
   "execution_count": 16,
   "id": "09e6ef8e",
   "metadata": {},
   "outputs": [
    {
     "ename": "NameError",
     "evalue": "name 'history_dict' is not defined",
     "output_type": "error",
     "traceback": [
      "\u001b[1;31m---------------------------------------------------------------------------\u001b[0m",
      "\u001b[1;31mNameError\u001b[0m                                 Traceback (most recent call last)",
      "\u001b[1;32m~\\AppData\\Local\\Temp/ipykernel_7872/2786932845.py\u001b[0m in \u001b[0;36m<module>\u001b[1;34m\u001b[0m\n\u001b[0;32m      1\u001b[0m \u001b[1;31m# 코드 3-10 훈련과 검증 정확도 그리기 (이미지 저장으로 변경)\u001b[0m\u001b[1;33m\u001b[0m\u001b[1;33m\u001b[0m\u001b[0m\n\u001b[0;32m      2\u001b[0m \u001b[0mplt\u001b[0m\u001b[1;33m.\u001b[0m\u001b[0mclf\u001b[0m\u001b[1;33m(\u001b[0m\u001b[1;33m)\u001b[0m   \u001b[1;31m# 그래프를 초기화합니다\u001b[0m\u001b[1;33m\u001b[0m\u001b[1;33m\u001b[0m\u001b[0m\n\u001b[1;32m----> 3\u001b[1;33m \u001b[0macc\u001b[0m \u001b[1;33m=\u001b[0m \u001b[0mhistory_dict\u001b[0m\u001b[1;33m[\u001b[0m\u001b[1;34m'acc'\u001b[0m\u001b[1;33m]\u001b[0m\u001b[1;33m\u001b[0m\u001b[1;33m\u001b[0m\u001b[0m\n\u001b[0m\u001b[0;32m      4\u001b[0m \u001b[0mval_acc\u001b[0m \u001b[1;33m=\u001b[0m \u001b[0mhistory_dict\u001b[0m\u001b[1;33m[\u001b[0m\u001b[1;34m'val_acc'\u001b[0m\u001b[1;33m]\u001b[0m\u001b[1;33m\u001b[0m\u001b[1;33m\u001b[0m\u001b[0m\n\u001b[0;32m      5\u001b[0m \u001b[1;33m\u001b[0m\u001b[0m\n",
      "\u001b[1;31mNameError\u001b[0m: name 'history_dict' is not defined"
     ]
    },
    {
     "data": {
      "text/plain": [
       "<Figure size 432x288 with 0 Axes>"
      ]
     },
     "metadata": {},
     "output_type": "display_data"
    }
   ],
   "source": [
    "#  훈련과 검증 정확도 그리기 (이미지 저장으로 변경)\n",
    "plt.clf()   # 그래프를 초기화합니다\n",
    "acc = history_dict['acc']\n",
    "val_acc = history_dict['val_acc']\n",
    "\n",
    "plt.plot(epochs, acc, 'bo', label='Training acc')\n",
    "plt.plot(epochs, val_acc, 'b', label='Validation acc')\n",
    "plt.title('Training and validation accuracy')\n",
    "plt.xlabel('Epochs')\n",
    "plt.ylabel('Accuracy')\n",
    "plt.legend()\n",
    "\n",
    "fig2 = plt.gcf()\n",
    "\n",
    "plt.draw()\n",
    "fig2.savefig('fig2.png', dpi=100)"
   ]
  },
  {
   "cell_type": "code",
   "execution_count": null,
   "id": "3a7040aa",
   "metadata": {},
   "outputs": [],
   "source": []
  },
  {
   "cell_type": "code",
   "execution_count": 8,
   "id": "5cd6d24a",
   "metadata": {},
   "outputs": [
    {
     "name": "stdout",
     "output_type": "stream",
     "text": [
      "Epoch 1/9\n",
      "16/16 [==============================] - 2s 58ms/step - loss: 2.4730 - accuracy: 0.5128 - val_loss: 1.6668 - val_accuracy: 0.6350\n",
      "Epoch 2/9\n",
      "16/16 [==============================] - 1s 50ms/step - loss: 1.4022 - accuracy: 0.6999 - val_loss: 1.2886 - val_accuracy: 0.7090\n",
      "Epoch 3/9\n",
      "16/16 [==============================] - 1s 46ms/step - loss: 1.0659 - accuracy: 0.7646 - val_loss: 1.1402 - val_accuracy: 0.7330\n",
      "Epoch 4/9\n",
      "16/16 [==============================] - 1s 49ms/step - loss: 0.8522 - accuracy: 0.8126 - val_loss: 1.0540 - val_accuracy: 0.7720\n",
      "Epoch 5/9\n",
      "16/16 [==============================] - 1s 45ms/step - loss: 0.6843 - accuracy: 0.8532 - val_loss: 0.9720 - val_accuracy: 0.8060\n",
      "Epoch 6/9\n",
      "16/16 [==============================] - 1s 45ms/step - loss: 0.5465 - accuracy: 0.8859 - val_loss: 0.9141 - val_accuracy: 0.8060\n",
      "Epoch 7/9\n",
      "16/16 [==============================] - 1s 44ms/step - loss: 0.4389 - accuracy: 0.9085 - val_loss: 0.9073 - val_accuracy: 0.8040\n",
      "Epoch 8/9\n",
      "16/16 [==============================] - 1s 43ms/step - loss: 0.3569 - accuracy: 0.9250 - val_loss: 0.8830 - val_accuracy: 0.8130\n",
      "Epoch 9/9\n",
      "16/16 [==============================] - 1s 44ms/step - loss: 0.2934 - accuracy: 0.9361 - val_loss: 0.9151 - val_accuracy: 0.8060\n",
      "71/71 [==============================] - 0s 3ms/step - loss: 1.0346 - accuracy: 0.7783\n",
      "[1.0346133708953857, 0.7782725095748901]\n"
     ]
    }
   ],
   "source": [
    "# 코드 3-21 모델을 처음부터 다시 훈련하기\n",
    "model = models.Sequential()\n",
    "model.add(layers.Dense(64, activation='relu', input_shape=(10000,)))\n",
    "model.add(layers.Dense(64, activation='relu'))\n",
    "model.add(layers.Dense(46, activation='softmax'))\n",
    "\n",
    "model.compile(optimizer='rmsprop',\n",
    "              loss='categorical_crossentropy',\n",
    "              metrics=['accuracy'])\n",
    "model.fit(partial_x_train,\n",
    "          partial_y_train,\n",
    "          epochs=9,\n",
    "          batch_size=512,\n",
    "          validation_data=(x_val, y_val))\n",
    "results = model.evaluate(x_test, one_hot_test_labels)\n",
    "\n",
    "print(results)"
   ]
  },
  {
   "cell_type": "code",
   "execution_count": null,
   "id": "f250a424",
   "metadata": {},
   "outputs": [],
   "source": []
  },
  {
   "cell_type": "code",
   "execution_count": null,
   "id": "70495933",
   "metadata": {},
   "outputs": [],
   "source": []
  }
 ],
 "metadata": {
  "kernelspec": {
   "display_name": "Python 3 (ipykernel)",
   "language": "python",
   "name": "python3"
  },
  "language_info": {
   "codemirror_mode": {
    "name": "ipython",
    "version": 3
   },
   "file_extension": ".py",
   "mimetype": "text/x-python",
   "name": "python",
   "nbconvert_exporter": "python",
   "pygments_lexer": "ipython3",
   "version": "3.9.7"
  }
 },
 "nbformat": 4,
 "nbformat_minor": 5
}
