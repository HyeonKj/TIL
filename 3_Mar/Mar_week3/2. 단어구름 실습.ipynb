{
 "cells": [
  {
   "cell_type": "markdown",
   "id": "2498da1a",
   "metadata": {},
   "source": [
    "### wordcloud 설치"
   ]
  },
  {
   "cell_type": "code",
   "execution_count": 1,
   "id": "c2a46b08",
   "metadata": {},
   "outputs": [
    {
     "name": "stdout",
     "output_type": "stream",
     "text": [
      "^C\n",
      "^C\n"
     ]
    }
   ],
   "source": [
    "#아나콘다를 이용할 경우:\n",
    "!conda install -y -c conda-forge wordcloud\n",
    "\n",
    "#맥 또는 리눅스에서는 pip 명령어로 설치\n",
    "!pip install wordcloud"
   ]
  },
  {
   "cell_type": "markdown",
   "id": "80840783",
   "metadata": {},
   "source": [
    "### 데이터 불러오기"
   ]
  },
  {
   "cell_type": "code",
   "execution_count": 1,
   "id": "d8a9fde6",
   "metadata": {},
   "outputs": [],
   "source": [
    "import pandas as pd\n",
    "\n",
    "word_count = pd.read_csv('word_count.csv', index_col=0)"
   ]
  },
  {
   "cell_type": "code",
   "execution_count": null,
   "id": "704e214b",
   "metadata": {},
   "outputs": [],
   "source": [
    "\n",
    "word_count.head()"
   ]
  },
  {
   "cell_type": "markdown",
   "id": "a38c8040",
   "metadata": {},
   "source": [
    "### 단어 구름"
   ]
  },
  {
   "cell_type": "code",
   "execution_count": null,
   "id": "d5d29f93",
   "metadata": {},
   "outputs": [],
   "source": [
    "\n",
    "from wordcloud import WordCloud"
   ]
  },
  {
   "cell_type": "code",
   "execution_count": null,
   "id": "5e72d6ec",
   "metadata": {},
   "outputs": [],
   "source": [
    "#font_path: 글꼴의 경로\n",
    "#max_words: 워드클라우드를 그릴 단어의 개수\n",
    "#background_color: 배경색 설정\n",
    "#width : 가로크기(픽셀 단위)\n",
    "#height: 세로크기(픽셀 단위)\n",
    "\n",
    "wc = WordCloud(background_color='white', max_words=100, width=400, height=300)"
   ]
  },
  {
   "cell_type": "code",
   "execution_count": null,
   "id": "0725b168",
   "metadata": {},
   "outputs": [],
   "source": [
    "word_count.set_index('단어')"
   ]
  },
  {
   "cell_type": "code",
   "execution_count": null,
   "id": "7ac9f3db",
   "metadata": {},
   "outputs": [],
   "source": [
    "word_count.set_index('단어')['빈도']"
   ]
  },
  {
   "cell_type": "code",
   "execution_count": null,
   "id": "f912a1c2",
   "metadata": {},
   "outputs": [],
   "source": [
    "count_dic = word_count.set_index('단어')['빈도'].to_dict()\n",
    "\n",
    "count_dic"
   ]
  },
  {
   "cell_type": "code",
   "execution_count": null,
   "id": "bf621ae0",
   "metadata": {},
   "outputs": [],
   "source": [
    "word_count['단어'], word_count['빈도']"
   ]
  },
  {
   "cell_type": "code",
   "execution_count": null,
   "id": "a6284d10",
   "metadata": {},
   "outputs": [],
   "source": [
    "dict(zip(word_count['단어'], word_count['빈도']))"
   ]
  },
  {
   "cell_type": "code",
   "execution_count": null,
   "id": "caa0c806",
   "metadata": {},
   "outputs": [],
   "source": [
    "cloud = wc.fit_words(count_dic)"
   ]
  },
  {
   "cell_type": "code",
   "execution_count": null,
   "id": "2b60cde4",
   "metadata": {
    "scrolled": true
   },
   "outputs": [],
   "source": [
    "cloud.to_image()"
   ]
  },
  {
   "cell_type": "code",
   "execution_count": null,
   "id": "ed4cf404",
   "metadata": {},
   "outputs": [],
   "source": [
    "cloud.to_file('cloud.png')"
   ]
  },
  {
   "cell_type": "code",
   "execution_count": null,
   "id": "2661f2ec",
   "metadata": {},
   "outputs": [],
   "source": [
    "import os\n",
    "os.getcwd()"
   ]
  }
 ],
 "metadata": {
  "kernelspec": {
   "display_name": "Python 3",
   "language": "python",
   "name": "python3"
  },
  "language_info": {
   "codemirror_mode": {
    "name": "ipython",
    "version": 3
   },
   "file_extension": ".py",
   "mimetype": "text/x-python",
   "name": "python",
   "nbconvert_exporter": "python",
   "pygments_lexer": "ipython3",
   "version": "3.8.8"
  },
  "toc": {
   "base_numbering": 1,
   "nav_menu": {},
   "number_sections": true,
   "sideBar": true,
   "skip_h1_title": false,
   "title_cell": "Table of Contents",
   "title_sidebar": "Contents",
   "toc_cell": false,
   "toc_position": {},
   "toc_section_display": true,
   "toc_window_display": false
  }
 },
 "nbformat": 4,
 "nbformat_minor": 5
}
