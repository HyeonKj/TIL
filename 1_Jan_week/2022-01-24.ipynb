{
 "cells": [
  {
   "cell_type": "code",
   "execution_count": 1,
   "id": "85ffa488",
   "metadata": {},
   "outputs": [
    {
     "name": "stdout",
     "output_type": "stream",
     "text": [
      "    NO       기업명 기업코드 첨부내용 ESG등급  환경  사회 지배구조  평가년도 비고 (조정시기)\n",
      "0    1       풀무원    017810    A+   A  A+   A+  2021         -\n",
      "1    2  포스코인터내셔널    047050    A+   A  A+   A+  2021         -\n",
      "2    3       포스코    005490    A+   A  A+   A+  2021         -\n",
      "3    4       케이티    030200    A+  A+  B+   A+  2021   2022-1차\n",
      "4    5      신한지주    055550    A+  A+  A+   A+  2021         -\n",
      "5    6        기아    000270    A+  A+  A+    A  2021         -\n",
      "6    7   SK이노베이션    096770    A+   A  A+   A+  2021         -\n",
      "7    8        SK    034730    A+  A+  A+   A+  2021         -\n",
      "8    9     S-Oil    010950    A+   A  A+   A+  2021         -\n",
      "9   10     NAVER    035420    A+   A   A   A+  2021         -\n",
      "10  11      KB금융    105560    A+  A+  A+   A+  2021         -\n",
      "11  12    JB금융지주    175330    A+   A  A+   A+  2021         -\n",
      "12  13   DGB금융지주    139130    A+   A  A+   A+  2021         -\n",
      "13  14   BNK금융지주    138930    A+   A  A+   A+  2021         -\n"
     ]
    }
   ],
   "source": [
    "import requests\n",
    "import bs4\n",
    "import pandas as pd\n",
    "max_page = 2\n",
    "col_len = 9\n",
    "max_contents = 10\n",
    "page_info = []\n",
    "column_temp = ''\n",
    "for page in range(1,max_page+1):\n",
    "    url = f'http://www.cgs.or.kr/business/esg_tab04.jsp?pg={page}&pp=10&skey=&svalue=&sfyear=2020&styear=2020&sgtype=TOTAL&sgrade=A%EF%BC%8B#ui_contents'\n",
    "    res = requests.get(url) # data call\n",
    "    html_str = res.text # write\n",
    "    bs_obj = bs4.BeautifulSoup(html_str) # using bs4 for tag search (data parsing)\n",
    "    data = bs_obj.find_all(['th','tr'])\n",
    "    if page == 2:\n",
    "        column_temp += data[0].get_text()\n",
    "        column_idx = column_temp.split('\\n')[1:1+col_len]\n",
    "    temp = []\n",
    "    for i in data[1+col_len:1+col_len+max_contents]:\n",
    "        temp.append(i.get_text().split('\\n'))\n",
    "    for i in temp:\n",
    "        page_info.append(i[1:1+col_len])\n",
    "pandas_data = []\n",
    "for i in range(eval(page_info[0][0])):\n",
    "    pandas_data.append(page_info[i])\n",
    "pandas_data.reverse()\n",
    "df = pd.DataFrame(data=pandas_data,columns=column_idx)\n",
    "print(df)"
   ]
  },
  {
   "cell_type": "code",
   "execution_count": 2,
   "id": "a5bfea71",
   "metadata": {},
   "outputs": [
    {
     "name": "stdout",
     "output_type": "stream",
     "text": [
      "['math']\n"
     ]
    }
   ],
   "source": [
    "test=[[\"Kim\",\"english\",99],[\"Hong\",\"math\",88],[\"Park\",\"history\",55]]\n",
    "print(test[-2][1:-1])"
   ]
  },
  {
   "cell_type": "code",
   "execution_count": 4,
   "id": "c7581d6a",
   "metadata": {},
   "outputs": [
    {
     "name": "stdout",
     "output_type": "stream",
     "text": [
      "3\n"
     ]
    }
   ],
   "source": [
    "test=[[\"홍길동\",11],[\"기김철\",37],[\"임꺽\",48]]\n",
    "print(len(test))"
   ]
  },
  {
   "cell_type": "code",
   "execution_count": 6,
   "id": "d1690088",
   "metadata": {},
   "outputs": [
    {
     "name": "stdout",
     "output_type": "stream",
     "text": [
      "[2, 4, 6, 8]\n"
     ]
    }
   ],
   "source": [
    "def multi_two(x):\n",
    "    return x*2\n",
    "result = map(multi_two,[1,2,3,4])\n",
    "print(list(result))"
   ]
  },
  {
   "cell_type": "code",
   "execution_count": 7,
   "id": "c9d50b64",
   "metadata": {},
   "outputs": [
    {
     "name": "stdout",
     "output_type": "stream",
     "text": [
      "[2, 6, 10]\n"
     ]
    }
   ],
   "source": [
    "numbers=[1,2,3,4,5]\n",
    "result=[x*2 for x in numbers if x%2==1]\n",
    "print(result)"
   ]
  },
  {
   "cell_type": "code",
   "execution_count": 22,
   "id": "17a90f47",
   "metadata": {},
   "outputs": [
    {
     "ename": "SyntaxError",
     "evalue": "invalid syntax (Temp/ipykernel_24912/2521002786.py, line 5)",
     "output_type": "error",
     "traceback": [
      "\u001b[1;36m  File \u001b[1;32m\"C:\\Users\\user\\AppData\\Local\\Temp/ipykernel_24912/2521002786.py\"\u001b[1;36m, line \u001b[1;32m5\u001b[0m\n\u001b[1;33m    res = requests.get(url)\u001b[0m\n\u001b[1;37m    ^\u001b[0m\n\u001b[1;31mSyntaxError\u001b[0m\u001b[1;31m:\u001b[0m invalid syntax\n"
     ]
    }
   ],
   "source": [
    "import requests\n",
    "import bs4\n",
    "import pandas as pd\n",
    "url = \"http://www.cgs.or.kr/business/esg_tab04.jsp?pg=1&pp=10&skey=&svalue=&sfyear=2020&styear=2020&sgtype=TOTAL&sgrade=A%EF%BC%8B#ui_contents\"\\\n",
    "res = requests.get(url)\n",
    "res.raise_for_status()\n",
    "for x in range(table):\n",
    "    bs_obj=bs4.BeautifulSoup(html_str, \"html.parser\")\n",
    "    atag = bs_obj.find_all(\"div\", attrs={\"class\":\"business_board\"})\n",
    "    print(bs_obj)\n",
    "    \n"
   ]
  },
  {
   "cell_type": "code",
   "execution_count": null,
   "id": "d0d5242e",
   "metadata": {},
   "outputs": [],
   "source": []
  },
  {
   "cell_type": "code",
   "execution_count": null,
   "id": "c5b7674e",
   "metadata": {},
   "outputs": [],
   "source": []
  },
  {
   "cell_type": "code",
   "execution_count": null,
   "id": "cb3e96ae",
   "metadata": {},
   "outputs": [],
   "source": []
  },
  {
   "cell_type": "code",
   "execution_count": null,
   "id": "ef58cd99",
   "metadata": {},
   "outputs": [],
   "source": []
  }
 ],
 "metadata": {
  "kernelspec": {
   "display_name": "Python 3 (ipykernel)",
   "language": "python",
   "name": "python3"
  },
  "language_info": {
   "codemirror_mode": {
    "name": "ipython",
    "version": 3
   },
   "file_extension": ".py",
   "mimetype": "text/x-python",
   "name": "python",
   "nbconvert_exporter": "python",
   "pygments_lexer": "ipython3",
   "version": "3.9.7"
  }
 },
 "nbformat": 4,
 "nbformat_minor": 5
}
